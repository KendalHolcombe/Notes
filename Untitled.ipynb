{
 "cells": [
  {
   "cell_type": "code",
   "execution_count": 6,
   "metadata": {},
   "outputs": [],
   "source": [
    "def parse_color(color):\n",
    "    color = color.lower()\n",
    "    dicthex = {'0':0,'1':1,'2':2,'3':3,'4':4,'5':5,'6':6,'7':7,'8':8,'9':9,'a':10,'b':11,'c':12,'d':13,'e':14,'f':15}\n",
    "    newdict = {}\n",
    "    if color[0] == '#':\n",
    "        if len(color) == 4:\n",
    "            newdict['r'] = dicthex[color[1]]*16+dicthex[color[1]]\n",
    "            newdict['g'] = dicthex[color[2]]*16+dicthex[color[2]]\n",
    "            newdict['b'] = dicthex[color[3]]*16+dicthex[color[3]]\n",
    "        else:\n",
    "            newdict['r'] = dicthex[color[1]]*16+dicthex[color[2]]\n",
    "            newdict['g'] = dicthex[color[3]]*16+dicthex[color[4]]\n",
    "            newdict['b'] = dicthex[color[5]]*16+dicthex[color[6]]\n",
    "    else:\n",
    "        pass\n",
    "    return newdict"
   ]
  },
  {
   "cell_type": "code",
   "execution_count": 7,
   "metadata": {},
   "outputs": [
    {
     "data": {
      "text/plain": [
       "{'b': 160, 'g': 255, 'r': 128}"
      ]
     },
     "execution_count": 7,
     "metadata": {},
     "output_type": "execute_result"
    }
   ],
   "source": [
    "parse_color('#80FFA0')"
   ]
  },
  {
   "cell_type": "code",
   "execution_count": 12,
   "metadata": {},
   "outputs": [
    {
     "ename": "NameError",
     "evalue": "name 'name_to_rgb' is not defined",
     "output_type": "error",
     "traceback": [
      "\u001b[0;31m---------------------------------------------------------------------------\u001b[0m",
      "\u001b[0;31mNameError\u001b[0m                                 Traceback (most recent call last)",
      "\u001b[0;32m<ipython-input-12-eb77703314b9>\u001b[0m in \u001b[0;36m<module>\u001b[0;34m()\u001b[0m\n\u001b[0;32m----> 1\u001b[0;31m \u001b[0mname_to_rgb\u001b[0m\u001b[0;34m(\u001b[0m\u001b[0;34m'Limegreen'\u001b[0m\u001b[0;34m)\u001b[0m\u001b[0;34m\u001b[0m\u001b[0m\n\u001b[0m",
      "\u001b[0;31mNameError\u001b[0m: name 'name_to_rgb' is not defined"
     ]
    }
   ],
   "source": [
    "name_to_rgb('Limegreen')"
   ]
  },
  {
   "cell_type": "code",
   "execution_count": null,
   "metadata": {
    "collapsed": true
   },
   "outputs": [],
   "source": []
  }
 ],
 "metadata": {
  "kernelspec": {
   "display_name": "Python 3",
   "language": "python",
   "name": "python3"
  },
  "language_info": {
   "codemirror_mode": {
    "name": "ipython",
    "version": 3
   },
   "file_extension": ".py",
   "mimetype": "text/x-python",
   "name": "python",
   "nbconvert_exporter": "python",
   "pygments_lexer": "ipython3",
   "version": "3.6.3"
  }
 },
 "nbformat": 4,
 "nbformat_minor": 2
}
